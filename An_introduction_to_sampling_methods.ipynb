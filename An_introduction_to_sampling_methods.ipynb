{
  "nbformat": 4,
  "nbformat_minor": 0,
  "metadata": {
    "colab": {
      "name": "An introduction to sampling methods.ipynb",
      "provenance": [],
      "collapsed_sections": [],
      "authorship_tag": "ABX9TyMi+Axmr/WHhzyX1ebGRh0N",
      "include_colab_link": true
    },
    "kernelspec": {
      "name": "python3",
      "display_name": "Python 3"
    },
    "language_info": {
      "name": "python"
    }
  },
  "cells": [
    {
      "cell_type": "markdown",
      "metadata": {
        "id": "view-in-github",
        "colab_type": "text"
      },
      "source": [
        "<a href=\"https://colab.research.google.com/github/leobioinf0/sampling_methods/blob/main/An_introduction_to_sampling_methods.ipynb\" target=\"_parent\"><img src=\"https://colab.research.google.com/assets/colab-badge.svg\" alt=\"Open In Colab\"/></a>"
      ]
    },
    {
      "cell_type": "code",
      "metadata": {
        "colab": {
          "base_uri": "https://localhost:8080/",
          "height": 38
        },
        "id": "EmCf4aKsAFms",
        "outputId": "2452fc62-3f46-4ff6-d7d1-05f741d8644a"
      },
      "source": [
        "%%html\n",
        "<marquee style='width: 30%; color: blue;'><b>An introduction to sampling methods</b></marquee>"
      ],
      "execution_count": 2,
      "outputs": [
        {
          "output_type": "display_data",
          "data": {
            "text/html": [
              "<marquee style='width: 30%; color: blue;'><b>An introduction to sampling methods</b></marquee>"
            ],
            "text/plain": [
              "<IPython.core.display.HTML object>"
            ]
          },
          "metadata": {}
        }
      ]
    },
    {
      "cell_type": "markdown",
      "metadata": {
        "id": "XnW2vcHI-wUU"
      },
      "source": [
        "# [**An introduction to sampling methods.**](https://www.scribbr.com/methodology/sampling-methods/)\n"
      ]
    },
    {
      "cell_type": "markdown",
      "metadata": {
        "id": "gBr6xSUXAfUQ"
      },
      "source": [
        "[![Research Design: Defining your Population and Sampling Strategy | Scribbr ](https://yt3.ggpht.com/ytc/AKedOLSuVPisoIbuf1jJsgVujMOfGIm-VdNULGrSsya4eg=s88-c-k-c0x00ffffff-no-rj)](https://www.youtube.com/watch?v=huVsdOZkeTc&t=48s&ab_channel=Scribbr)"
      ]
    },
    {
      "cell_type": "markdown",
      "metadata": {
        "id": "AmSFGgfdu_KA"
      },
      "source": [
        "<p>When you conduct research about a group of people, it’s rarely possible to collect data from every person in that group. Instead, you select a sample. The sample is the group of individuals who will actually participate in the research.</p>\n",
        "<p>To draw valid conclusions from your results, you have to carefully decide how you will select a sample that is representative of the group as a whole. There are two types of sampling methods:</p>\n",
        "<ul>\n",
        "<li><a href=\"https://www.scribbr.com/methodology/sampling-methods/#probability-sampling\" data-wpel-link=\"internal\"><strong>Probability sampling</strong></a> involves random selection, allowing you to make strong statistical inferences about the whole group.</li>\n",
        "<li><a href=\"https://www.scribbr.com/methodology/sampling-methods/#non-probability-sampling\" data-wpel-link=\"internal\"><strong>Non-probability sampling</strong></a> involves non-random selection based on convenience or other criteria, allowing you to easily collect data.</li>\n",
        "</ul>\n",
        "<p>You should clearly explain how you selected your sample in the <a href=\"https://www.scribbr.com/dissertation/methodology/\" data-wpel-link=\"internal\">methodology</a> section of your paper or thesis.</p>"
      ]
    },
    {
      "cell_type": "markdown",
      "metadata": {
        "id": "uFuyp7eCxLtL"
      },
      "source": [
        "## Population vs sample\n",
        "\n",
        "<p>First, you need to understand the difference between <a href=\"https://www.scribbr.com/methodology/population-vs-sample/\" data-wpel-link=\"internal\">a population and a sample</a>, and identify the target population of your research.</p>\n",
        "<ul>\n",
        "<li>The <strong>population</strong> is the entire group that you want to draw conclusions about.</li>\n",
        "<li>The <strong>sample</strong> is the specific group of individuals that you will collect data from.</li>\n",
        "</ul>\n",
        "<p>The population can be defined in terms of geographical location, age, income, and many other characteristics.</p>\n",
        "\n",
        "![Population vs sample](https://cdn.scribbr.com/wp-content/uploads/2019/09/population-vs-sample-1-300x265.png)\n",
        "\n",
        "\n",
        "It can be very broad or quite narrow: maybe you want to make inferences about the whole adult population of your country; maybe your research focuses on customers of a certain company, patients with a specific health condition, or students in a single school.</p>\n",
        "<p>It is important to carefully define your target population according to the purpose and practicalities of your project.</p>\n",
        "<p>If the population is very large, demographically mixed, and geographically dispersed, it might be difficult to gain access to a representative sample.</p>"
      ]
    },
    {
      "cell_type": "markdown",
      "metadata": {
        "id": "-QUwZqmdxdM6"
      },
      "source": [
        "### Sampling frame\n",
        "<p>The sampling frame is the actual list of individuals that the sample will be drawn from. Ideally, it should include the entire target population (and nobody who is not part of that population).</p>\n",
        "\n",
        "\n",
        "\n",
        "**Example**\n",
        "<p>You are doing research on working conditions at Company X. Your population is all 1000 employees of the company. Your sampling frame is the company’s HR database which lists the names and contact details of every employee.</p>"
      ]
    },
    {
      "cell_type": "markdown",
      "metadata": {
        "id": "VKxUpOFFx6kq"
      },
      "source": [
        "### Sample size\n",
        "<p>The number of individuals you should include in your sample depends on various factors, including the size and <a href=\"https://www.scribbr.com/statistics/variability/\" data-wpel-link=\"internal\">variability</a> of the population and your research design. There are different<a href=\"https://www.ai-therapy.com/psychology-statistics/sample-size-calculator\" data-wpel-link=\"external\" target=\"_blank\" rel=\"nofollow external noopener\" class=\"ext-link\"> sample size calculators</a> and formulas depending on what you want to achieve with <a href=\"https://www.scribbr.com/category/statistics/\" data-wpel-link=\"internal\">statistical analysis</a>.</p>\n",
        "<ul></ul>"
      ]
    },
    {
      "cell_type": "markdown",
      "metadata": {
        "id": "xWouZdjMyPcT"
      },
      "source": [
        "## Probability sampling methods\n",
        "<p>Probability sampling means that every member of the population has a chance of being selected. It is mainly used in <a href=\"https://www.scribbr.com/methodology/quantitative-research/\" data-wpel-link=\"internal\">quantitative research</a>. If you want to produce results that are representative of the whole population, probability sampling techniques are the most valid choice.</p>\n",
        "<p>There are four main types of probability sample.\n",
        "\n",
        "![Probability sampling](https://cdn.scribbr.com/wp-content/uploads/2019/09/probability-sampling.png)\n"
      ]
    },
    {
      "cell_type": "markdown",
      "metadata": {
        "id": "fU2gvJzNywYk"
      },
      "source": [
        "### 1. Simple random sampling\n",
        "<p>In a <a href=\"https://www.scribbr.com/methodology/simple-random-sampling/\" data-wpel-link=\"internal\">simple random sample</a>, every member of the population has an equal chance of being selected. Your sampling frame should include the whole population.</p>\n",
        "<p>To conduct this type of sampling, you can use tools like random number generators or other techniques that are based entirely on chance.</p>\n",
        "<div class=\"kb-textbox border-left green\">\n",
        "\n",
        "\n",
        "**Example**\n",
        "<p>You want to select a simple random sample of 100 employees of Company X. You assign a number to every employee in the company database from 1 to 1000, and use a random number generator to select 100 numbers.</p>"
      ]
    },
    {
      "cell_type": "markdown",
      "metadata": {
        "id": "W9fLkyae1AH2"
      },
      "source": [
        "### 2. Systematic sampling\n",
        "<p><a href=\"https://www.scribbr.com/methodology/systematic-sampling/\" data-wpel-link=\"internal\">Systematic sampling</a> is similar to simple random sampling, but it is usually slightly easier to conduct. Every member of the population is listed with a number, but instead of randomly generating numbers, individuals are chosen at regular intervals.</p>\n",
        "\n",
        "**Example**\n",
        "\n",
        "<p>All employees of the company are listed in alphabetical order. From the first 10 numbers, you randomly select a starting point: number 6. From number 6 onwards, every 10th person on the list is selected (6, 16, 26, 36, and so on), and you end up with a sample of 100 people.</p>\n",
        "\n",
        "<p>If you use this technique, it is important to make sure that there is no hidden pattern in the list that might skew the sample. For example, if the HR database groups employees by team, and team members are listed in order of seniority, there is a risk that your interval might skip over people in junior roles, resulting in a sample that is skewed towards senior employees.</p>"
      ]
    },
    {
      "cell_type": "markdown",
      "metadata": {
        "id": "5iJNucwn29rN"
      },
      "source": [
        "### 3. Stratified sampling</h3>\n",
        "<p><a href=\"https://www.scribbr.com/methodology/stratified-sampling/\" data-wpel-link=\"internal\">Stratified sampling</a> involves dividing the population into subpopulations that may differ in important ways. It allows you draw more precise conclusions by ensuring that every subgroup is properly represented in the sample.</p>\n",
        "<p>To use this sampling method, you divide the population into subgroups (called strata) based on the relevant characteristic (e.g. gender, age range, income bracket, job role).</p>\n",
        "<p>Based on the overall proportions of the population, you calculate how many people should be sampled from each subgroup. Then you use random or <a href=\"https://www.scribbr.com/methodology/systematic-sampling/\" data-wpel-link=\"internal\">systematic sampling</a> to select a sample from each subgroup.</p>\n",
        "**Example**</h6>\n",
        "<p>The company has 800 female employees and 200 male employees. You want to ensure that the sample reflects the gender balance of the company, so you sort the population into two strata based on gender. Then you use random sampling on each group, selecting 80 women and 20 men, which gives you a representative sample of 100 people.</p>"
      ]
    },
    {
      "cell_type": "markdown",
      "metadata": {
        "id": "AHNaI8u03JGG"
      },
      "source": [
        "### 4. Cluster sampling</h3>\n",
        "<p><a href=\"https://www.scribbr.com/methodology/cluster-sampling/\" data-wpel-link=\"internal\">Cluster sampling</a> also involves dividing the population into subgroups, but each subgroup should have similar characteristics to the whole sample. Instead of sampling individuals from each subgroup, you randomly select entire subgroups.</p>\n",
        "<p>If it is practically possible, you might include every individual from each sampled cluster. If the clusters themselves are large, you can also sample individuals from within each cluster using one of the techniques above. This is called <a href=\"https://www.scribbr.com/methodology/multistage-sampling/\" data-wpel-link=\"internal\">multistage sampling</a>.</p>\n",
        "<p>This method is good for dealing with large and dispersed populations, but there is more risk of error in the sample, as there could be substantial differences between clusters. It’s difficult to guarantee that the sampled clusters are really representative of the whole population.</p>\n",
        "\n",
        "**Example**\n",
        "\n",
        "<p>The company has offices in 10 cities across the country (all with roughly the same number of employees in similar roles). You don’t have the capacity to travel to every office to collect your data, so you use random sampling to select 3 offices – these are your clusters.</p>\n"
      ]
    },
    {
      "cell_type": "markdown",
      "metadata": {
        "id": "BA2zaRgx3JII"
      },
      "source": [
        "## Non-probability sampling methods</h2>\n",
        "<p>In a non-probability sample, individuals are selected based on non-random criteria, and not every individual has a chance of being included.</p>\n",
        "<p>This type of sample is easier and cheaper to access, but it has a higher risk of <a href=\"https://www.scribbr.com/methodology/sampling-bias/\" data-wpel-link=\"internal\">sampling bias</a>. That means the inferences you can make about the population are weaker than with probability samples, and your conclusions may be more limited. If you use a non-probability sample, you should still aim to make it as representative of the population as possible.</p>\n",
        "<p>Non-probability sampling techniques are often used in exploratory and <a href=\"https://www.scribbr.com/methodology/qualitative-research/\" data-wpel-link=\"internal\">qualitative research</a>. In these types of research, the aim is not to test a<a href=\"https://www.scribbr.com/methodology/hypotheses/\" data-wpel-link=\"internal\"> hypothesis</a> about a broad population, but to develop an initial understanding of a small or under-researched population.\n",
        "\n",
        "![Non probability sampling](https://cdn.scribbr.com/wp-content/uploads/2019/09/non-probability-sampling-2.png)"
      ]
    },
    {
      "cell_type": "markdown",
      "metadata": {
        "id": "GXNzc2tC3Ja9"
      },
      "source": [
        "### 1. Convenience sampling</h3>\n",
        "<p>A convenience sample simply includes the individuals who happen to be most accessible to the researcher.</p>\n",
        "<p>This is an easy and inexpensive way to gather initial data, but there is no way to tell if the sample is representative of the population, so it can’t produce generalizable results.\n",
        "\n",
        "**Example**</h6>\n",
        "<p>You are researching opinions about student support services in your university, so after each of your classes, you ask your fellow students to complete a<a href=\"https://www.scribbr.com/methodology/survey-research/\" data-wpel-link=\"internal\"> survey</a> on the topic. This is a convenient way to gather data, but as you only surveyed students taking the same classes as you at the same level, the sample is not representative of all the students at your university."
      ]
    },
    {
      "cell_type": "markdown",
      "metadata": {
        "id": "PBP_qDc44TKi"
      },
      "source": [
        "### 2. Voluntary response sampling</h3>\n",
        "<p>Similar to a convenience sample, a voluntary response sample is mainly based on ease of access. Instead of the researcher choosing participants and directly contacting them, people volunteer themselves (e.g. by responding to a public online survey).</p>\n",
        "<p>Voluntary response samples are always at least somewhat biased, as some people will inherently be more likely to volunteer than others.\n",
        "\n",
        "**Example**\n",
        "\n",
        "You send out the survey to all students at your university and a lot of students decide to complete it. This can certainly give you some insight into the topic, but the people who responded are more likely to be those who have strong opinions about the student support services, so you can’t be sure that their opinions are representative of all students."
      ]
    },
    {
      "cell_type": "markdown",
      "metadata": {
        "id": "yc4dYVj5vaDZ"
      },
      "source": [
        "### 3. Purposive sampling</h3>\n",
        "<p>This type of sampling, also known as judgement sampling, involves the researcher using their expertise to select a sample that is most useful to the purposes of the research.</p>\n",
        "<p>It is often used in <a href=\"https://www.scribbr.com/methodology/qualitative-research/\" data-wpel-link=\"internal\">qualitative research</a>, where the researcher wants to gain detailed knowledge about a specific phenomenon rather than make statistical inferences, or where the population is very small and specific. An effective purposive sample must have clear criteria and rationale for inclusion.\n",
        "\n",
        "**Example**</h6>\n",
        "<p>You want to know more about the opinions and experiences of disabled students at your university, so you purposefully select a number of students with different support needs in order to gather a varied range of data on their experiences with student services."
      ]
    },
    {
      "cell_type": "markdown",
      "metadata": {
        "id": "ZAz4VNSj4iFA"
      },
      "source": [
        "### 4. Snowball sampling</h3>\n",
        "<p>If the population is hard to access, snowball sampling can be used to recruit participants via other participants. The number of people you have access to &#8220;snowballs&#8221; as you get in contact with more people.\n",
        "\n",
        "**Example**</h6>\n",
        "<p>You are researching experiences of homelessness in your city. Since there is no list of all homeless people in the city, probability sampling isn’t possible. You meet one person who agrees to participate in the research, and she puts you in contact with other homeless people that she knows in the area."
      ]
    },
    {
      "cell_type": "markdown",
      "metadata": {
        "id": "0xjmGV0G7xHd"
      },
      "source": [
        "## Frequently asked questions about sampling\n",
        "\n",
        "\n",
        "**What is sampling?**\n",
        "\n",
        "<p>A <strong>sample</strong> is a subset of individuals from a larger <a href=\"https://www.scribbr.com/methodology/population-vs-sample/\" data-wpel-link=\"internal\">population</a>.<a href=\"https://www.scribbr.com/methodology/sampling-methods/\" data-wpel-link=\"internal\"><strong> Sampling</strong></a> means selecting the group that you will actually collect data from in your research. For example, if you are researching the opinions of students in your university, you could <a href=\"https://www.scribbr.com/methodology/survey-research/\" data-wpel-link=\"internal\">survey</a> a sample of 100 students.</p>\n",
        "<p>In statistics, sampling allows you to <a href=\"https://www.scribbr.com/statistics/hypothesis-testing/\" data-wpel-link=\"internal\">test a hypothesis</a> about the characteristics of a population.</p>\n",
        "\n",
        "**Why are samples used in research?**\n",
        "\n",
        "<p><a href=\"https://www.scribbr.com/methodology/sampling-methods/\" data-wpel-link=\"internal\"><strong>Samples</strong></a> are used to make inferences about <strong>populations</strong>. Samples are easier to collect data from because they are practical, cost-effective, convenient and manageable.</p>\n",
        "\n",
        "**What is probability sampling?**\n",
        "\n",
        "<p><a href=\"https://www.scribbr.com/methodology/sampling-methods/#probability-sampling\" data-wpel-link=\"internal\">Probability sampling</a> means that every member of the target population has a known chance of being included in the sample.</p>\n",
        "<p>Probability sampling methods include <a href=\"https://www.scribbr.com/methodology/simple-random-sampling/\" data-wpel-link=\"internal\">simple random sampling</a>, <a href=\"https://www.scribbr.com/methodology/systematic-sampling/\" data-wpel-link=\"internal\">systematic sampling</a>, <a href=\"https://www.scribbr.com/methodology/stratified-sampling/\" data-wpel-link=\"internal\">stratified sampling</a>, and <a href=\"https://www.scribbr.com/methodology/cluster-sampling/\" data-wpel-link=\"internal\">cluster sampling</a>.</p>\n",
        "\n",
        "**What is non-probability sampling?**\n",
        "\n",
        "<p>In <a href=\"https://www.scribbr.com/methodology/sampling-methods/#non-probability-sampling\" data-wpel-link=\"internal\">non-probability sampling</a>, the sample is selected based on non-random criteria, and not every member of the population has a chance of being included.</p>\n",
        "<p>Common non-probability sampling methods include convenience sampling, voluntary response sampling, purposive sampling, snowball sampling, and quota sampling.</p>\n",
        "\n",
        "**What is multistage sampling?**\n",
        "\n",
        "<p>In <a href=\"https://www.scribbr.com/methodology/multistage-sampling/\" data-wpel-link=\"internal\">multistage sampling</a>, or multistage cluster sampling, you draw a sample from a <a href=\"https://www.scribbr.com/methodology/population-vs-sample/\" data-wpel-link=\"internal\">population</a> using smaller and smaller groups at each stage.</p>\n",
        "<p>This method is often used to <a href=\"https://www.scribbr.com/methodology/data-collection/\" data-wpel-link=\"internal\">collect data</a> from a large, geographically spread group of people in national surveys, for example. You take advantage of hierarchical groupings (e.g., from state to city to neighborhood) to create a sample that’s less expensive and time-consuming to collect data from.</p>\n",
        "\n",
        "**What is sampling bias?**\n",
        "\n",
        "<p><a href=\"https://www.scribbr.com/methodology/sampling-bias/\" data-wpel-link=\"internal\">Sampling bias</a> occurs when some members of a <a href=\"https://www.scribbr.com/methodology/population-vs-sample/\" data-wpel-link=\"internal\">population</a> are systematically more likely to be selected in a <a href=\"https://www.scribbr.com/methodology/sampling-methods/\" data-wpel-link=\"internal\">sample</a> than others.</p>\n"
      ]
    },
    {
      "cell_type": "markdown",
      "metadata": {
        "id": "WVS_usV1AjSG"
      },
      "source": [
        "*Published on September 19, 2019 by Shona McCombes. Revised on August 30, 2021.*"
      ]
    },
    {
      "cell_type": "markdown",
      "metadata": {
        "id": "8AYIUA3wFUeJ"
      },
      "source": [
        "# [**Sampling in Statistics: Different Sampling Methods, Types & Error.**](https://www.statisticshowto.com/probability-and-statistics/sampling-in-statistics/)"
      ]
    },
    {
      "cell_type": "markdown",
      "metadata": {
        "id": "W0dKvJTKFl0K"
      },
      "source": [
        "## About Samples\n",
        "\n",
        "<a href=\"https://www.statisticshowto.com/sample/\">Samples </a>are parts of a <a href=\"https://www.statisticshowto.com/what-is-a-population/\">population</a>. For example, you might have a list of information on 100 people (your &#8220;sample&#8221;) out of 10,000 people (the &#8220;population&#8221;). You can use that list to make some assumptions about the entire population&#8217;s behavior. </p>\n",
        "<p>Watch the video for an overview of different sampling methods:<br />\n",
        "\n",
        "[![RDifferent Sampling Methods ](https://yt3.ggpht.com/ng2iZdKlKVvVCEOVXQpwwhk2eacDXwiD5TSuXXv5HC7BLKDX_uKm6reqs-dnAGjrVlciR_qUJg=s88-c-k-c0x00ffffff-no-rj)](https://youtu.be/A7fcdRhSp8k)\n",
        "\n",
        "<p>However, it&#8217;s not that simple. When you do stats, your sample size has to be ideal&mdash;not too large or too small. Then once you&#8217;ve decided on a sample size, you must use a sound technique to collect the sample from the population:<br clear=\"left\"></p>\n",
        "<ul>\n",
        "<li><a href=\"https://www.statisticshowto.com/probability-and-statistics/sampling-in-statistics/probability-sampling/\"><strong>Probability Sampling</strong></a> uses <a href=\"https://www.statisticshowto.com/randomization-experimental-design/\">randomization </a>to select sample members. You know the probability of each potential member&#8217;s inclusion in the sample. For example, 1/100. However, it isn&#8217;t necessary for the odds to be equal. Some members might have a 1/100 chance of being chosen, others might have 1/50.</li>\n",
        "<li><a href=\"https://www.statisticshowto.com/probability-and-statistics/sampling-in-statistics/non-probability-sampling/\"><strong>Non-probability sampling</strong></a> uses non-random techniques (i.e. the judgment of the researcher). You can&#8217;t calculate the odds of any particular item, person or thing being included in your sample.</li>"
      ]
    },
    {
      "cell_type": "markdown",
      "metadata": {
        "id": "v7Vnj60ZIDAF"
      },
      "source": [
        "## Types of samples"
      ]
    },
    {
      "cell_type": "markdown",
      "metadata": {
        "id": "NeehL5y2IYw6"
      },
      "source": [
        "### Common Types\n",
        "\n",
        "<p>The most common techniques you&#8217;ll likely meet in <a href=\"https://www.statisticshowto.com/what-is-elementary-statistics/\">elementary statistics</a> or AP statistics include <a href=\"https://www.statisticshowto.com/sampling-with-replacement-without/\">taking a sample with and without replacement</a>. Specific techniques include:</p>\n",
        "<ul>\n",
        "<li><strong><a href=\"https://www.statisticshowto.com/bernoulli-sampling/\">Bernoulli samples</a></strong> have independent <a href=\"https://www.statisticshowto.com/bernoulli-distribution/#trial\">Bernoulli trials</a> on population elements. The trials decide whether the element becomes part of the <a href=\"https://www.statisticshowto.com/sample/\">sample</a>. All population elements have an equal chance of being included in each choice of a single sample. The sample sizes in Bernoulli samples follow a <a href=\"https://www.statisticshowto.com/probability-and-statistics/binomial-theorem/binomial-distribution-formula/\">binomial distribution</a>. <strong>Poisson samples </strong> (less common): An independent Bernoulli trial decides if each population element makes it to the sample.</li>\n",
        "<li><strong><a href=\"https://www.statisticshowto.com/what-is-cluster-sampling/\">Cluster sampes</a></strong> divide the population into groups (clusters). Then a <a href=\"https://www.statisticshowto.com/probability-and-statistics/statistics-definitions/simple-random-sample/\">random sample</a> is chosen from the clusters. It&#8217;s used when researchers don&#8217;t know the individuals in a population but do know the population subsets or groups.</li>\n",
        "<li>In <strong><a href=\"https://www.statisticshowto.com/systematic-sampling/\">systematic sampling</a></strong>, you select sample elements from an ordered frame. A <a href=\"https://www.statisticshowto.com/sampling-frame/\">sampling frame</a> is just a list of participants that you want to get a sample from. For example, in the equal-probability method, choose an element from a list and then choose every kth element using the equation k = N\\n. Small &#8220;n&#8221; denotes the sample size and capital &#8220;N&#8221; equals the size of the population.</li>\n",
        "<li><strong><a href=\"https://www.statisticshowto.com/probability-and-statistics/statistics-definitions/simple-random-sample/\">SRS</a> </strong>: Select items completely randomly, so that each element has the same probability of being chosen as any other element. Each subset of elements has the same probability of being chosen as any other subset of k elements.</li>\n",
        "<li>In <strong><a href=\"https://www.statisticshowto.com/probability-and-statistics/sampling-in-statistics/stratified-random-sample/\">stratified sampling</a></strong>, sample each subpopulation independently. First, divide the population into <a href=\"http://www.merriam-webster.com/dictionary/homogeneous\" target=\"_blank\" rel=\"noopener noreferrer\">homogeneous</a> (very similar) subgroups before getting the sample. Each population member only belongs to one group. Then apply simple random or a systematic method within each group to choose the sample. <a href=\"https://www.statisticshowto.com/stratified-randomization/\"><strong>Stratified Randomization</strong>:</a> a sub-type of stratified used in clinical trials. First, divide patients into strata, then randomize with <a href=\"https://www.statisticshowto.com/permuted-block-randomization/\">permuted block randomization</a>.</li>"
      ]
    },
    {
      "cell_type": "markdown",
      "metadata": {
        "id": "cG5JxvkGIo6o"
      },
      "source": [
        "### Less Common Types\n",
        "\n",
        "<p>You&#8217;ll rarely (if ever) come across these techniques in a basic stats class. However, you&#8217;ll come across them in the &#8220;real world&#8221;:</p>\n",
        "<ul>\n",
        "<li><strong><a href=\"https://www.statisticshowto.com/acceptance-rejection-sampling/\">Acceptance-Rejection Sampling</a></strong>: A way to sample from an unknown distribution using a similar, more convenient distribution.</li>\n",
        "<li><strong><a href=\"https://www.statisticshowto.com/convenience-sampling/\">Accidental sampling</a> </strong>(also known as grab, convenience or opportunity sampling): Draw a sample from a convenient, readily available population. It doesn&#8217;t give a <a href=\"https://www.statisticshowto.com/representative-sample/\">representative sample</a> for the population but can be useful for pilot testing.</li>\n",
        "<li><strong><a href=\"https://www.statisticshowto.com/adaptive-sampling/\">Adaptive sampling</a></strong> (also called response-adaptive designs): adapt your selection criteria as the experiment progresses, based on preliminary results as they come in.</li>\n",
        "<li><strong><a href=\"https://www.statisticshowto.com/bootstrap-sample/\">Bootstrap Sample</a></strong>: Select a smaller sample from a larger sample with <a href=\"https://www.statisticshowto.com/bootstrap-sample/\">Bootstrapping.</a> Bootstrapping is a type of <a href=\"https://www.statisticshowto.com/resampling-techniques/\">resampling </a>where you draw large numbers of smaller samples of the same size, with replacement, from a single original sample.</li>\n",
        "<li>The <strong>Demon algorithm </strong>(physics) samples members of a microcanonical ensemble (used to represent the possible states of a mechanical system which has an exactly specified total energy) with a given energy. The &#8220;demon&#8221; represents a degree of freedom in the system which stores and provides energy.</li>\n",
        "<li><strong><a href=\"https://www.statisticshowto.com/critical-case-sampling/\">Critical Case Samples</a></strong>: With this method, you carefully choose cases to maximize the information you can get from a handful of samples.</li>\n",
        "<li><strong><a href=\"https://www.statisticshowto.com/discrepant-case-sampling/\">Discrepant case sampling</a></strong>: you choose cases that appear to contradict your findings.</li>\n",
        "<li><strong><a href=\"https://www.statisticshowto.com/distance-sampling/\">Distance sample</a> </strong>: a widely used technique that estimates the density or abundance of animal populations.</li>\n",
        "<li>The <strong><a href=\"https://www.statisticshowto.com/experience-sampling/\">experience sampling method</a></strong> samples experiences (rather than individuals or members). In this method, study participants stop at certain times and make notes of their experiences as they experience them.</li>\n",
        "<li><strong><a href=\"https://www.statisticshowto.com/haphazard-sampling/\">Haphazard Sampling</a>:</strong> where a researcher chooses items haphazardly, trying to simulate randomness. However, the result may not be random at all &mdash; tainted by <a href=\"https://www.statisticshowto.com/what-is-bias/\">selection bias</a>.</li>\n",
        "</ul>"
      ]
    },
    {
      "cell_type": "markdown",
      "metadata": {
        "id": "2v2pHzxnI198"
      },
      "source": [
        "### Additional Uncommon Types\n",
        "\n",
        "<p><strong>You&#8217;ll probably not come across these in a basic stats class.</strong></p>\n",
        "<ul>\n",
        "<li><strong><a href=\"https://www.statisticshowto.com/inverse-sampling/\">Inverse Sample</a>: </strong>based on negative binomial sampling. Take samples until a specified number of successes have happened.</li>\n",
        "<li><a href=\"https://www.statisticshowto.com/importance-sampling/\" target=\"_blank\" rel=\"noopener noreferrer\"><strong>Importance Sampling</strong></a>: a method to model rare events.</li>\n",
        "<li>The <strong><a href=\"https://www.statisticshowto.com/kish-grid/\">Kish grid</a></strong>: a way to select members of a household for interviews and uses a random number tables for the selections.</li>\n",
        "<li><strong><a href=\"https://www.statisticshowto.com/latin-hypercube-sampling/\">Latin hypercube:</a></strong> used to construct computer experiments. It generates samples of <a href=\"https://www.statisticshowto.com/plausibility-plausible-values-and-measures/\">plausible </a>collections of values for parameters in a multidimensional distribution.</li>\n",
        "<li>In <strong><a href=\"https://www.statisticshowto.com/line-intercept-sampling/\">line-intercept sampling</a></strong>, a method where you include an element in a sample from a particular region if a certain <a href=\"https://calculushowto.com/line-segment-equivalent/\" rel=\"noopener noreferrer\" target=\"_blank\">line segment </a>intersects the element.</li>\n",
        "<li>Use <a href=\"https://www.statisticshowto.com/maximum-variation-sampling/\"><strong>Maximum Variation Samples</strong></a> when you want to include extremes (like rich/poor or young/old). A related technique: <a href=\"https://www.statisticshowto.com/extreme-case-sampling/\"><strong>extreme case sampling</strong></a>.</li>\n",
        "<li><strong><a href=\"https://www.statisticshowto.com/multistage-sampling/\">Multistage sampling</a></strong>; one of a variety of cluster sampling techniques where you choose random elements from a cluster (instead of every member in the cluster).</li>\n",
        "<li><strong><a href=\"https://www.statisticshowto.com/quota-sampling/\">Quota sampling</a></strong>: a way to select survey participants. It&#8217;s similar to statified sampling but researchers choose members of a group based on judgment. For example, people closest to the researcher might be chosen for ease of access.</li>\n",
        "<li><strong><a href=\"https://www.statisticshowto.com/reservoir-sampling/\">Reservoir sampling</a></strong>: used in data mining to obtain a sample of size n from a data stream of unknown length.</li>\n",
        "<li><a href=\"https://www.statisticshowto.com/respondent-driven-sampling/\"><strong>Respondent Driven Sampling.</strong></a> A chain-referral sampling method where participants recommend other people they know.</li>\n",
        "<li><a href=\"https://www.statisticshowto.com/sequential-sampling/\">A <strong>sequential sample</strong></a> doesn&#8217;t have a set size; take items one (or a few) at a time until you have enough for your research. It&#8217;s commonly used in ecology.</li>\n",
        "<li><strong><a href=\"https://www.statisticshowto.com/probability-and-statistics/statistics-definitions/snowball-sampling/\">Snowball samples</a></strong>: where existing study participants recruit future study participants from people they know.</li>\n",
        "<li><strong><a href=\"https://www.statisticshowto.com/probability-and-statistics/statistics-definitions/simple-random-sample/\">Square root biased sample</a></strong>a way to choose people for additional screenings at airports. A combination of SRS and profiling.</li>"
      ]
    },
    {
      "cell_type": "markdown",
      "metadata": {
        "id": "1W3vIP-GJF7Q"
      },
      "source": [
        "### Different Sampling Methods: How to Tell the Difference\n",
        "\n",
        "You&#8217;ll come across many terms in statistics that define <strong>different sampling methods</strong>: <a href=\"https://www.statisticshowto.com/probability-and-statistics/statistics-definitions/simple-random-sample/\">simple random sampling</a>, <a href=\"https://www.statisticshowto.com/systematic-sampling/\" target=\"_blank\" rel=\"noopener noreferrer\">systematic sampling</a>, <a href=\"https://www.statisticshowto.com/probability-and-statistics/sampling-in-statistics/stratified-random-sample/\">stratified random sampling</a> and <a href=\"https://www.statisticshowto.com/what-is-cluster-sampling/\">cluster sampling</a>. How to tell the difference between the different sampling methods can be a challenge.</p>\n",
        "<h2>Different Sampling Methods: How to Tell the Difference: Steps</h2>\n",
        "<p><strong><span style=\"color: blue;\">Step 1:</span></strong> Find out if the study sampled from individuals (for example, picked from a pool of people). You&#8217;ll find <strong><a href=\"https://www.statisticshowto.com/probability-and-statistics/statistics-definitions/simple-random-sample/\">simple random sampling</a></strong> in a school lottery, where individual names are picked out of a hat. But a more &#8220;systematic&#8221; way of choosing people can be found in &#8220;<a href=\"https://www.statisticshowto.com/systematic-sampling/\">systematic sampling</a>,&#8221; where every nth individual is chosen from a population. For example, every 100th customer at a certain store might receive a &#8220;<a href=\"http://www.wisegeek.com/what-is-a-door-buster.htm\" target=\"_blank\" rel=\"noopener noreferrer\">doorbuster</a>&#8221; gift.</p>\n",
        "<p><strong><span style=\"color: blue;\">Step 2:</span></strong> Find out if the study picked groups of participants. For large numbers of people (like the number of potential draftees in the Vietnam war), it&#8217;s much simpler to pick people by groups (<strong><a href=\"https://www.statisticshowto.com/probability-and-statistics/statistics-definitions/simple-random-sample/\">simple random sampling</a></strong>). In the case of the draft, draftees were chosen by birth date, &#8220;simplifying&#8221; the procedure.</p>\n",
        "<p><strong><span style=\"color: blue;\">Step 3:</span></strong> Determine if your study contained data from more than one carefully defined group (&#8220;strata&#8221; or &#8220;cluster&#8221;). Some examples of strata could be: Democrats and Republics, Renters and Homeowners, Country Folk vs. City Dwellers, Jacksonville Jaguars fans and San Francisco 49ers fans. If there are two or more very distinct, clear groups, you have a <strong><a href=\"https://www.statisticshowto.com/probability-and-statistics/sampling-in-statistics/stratified-random-sample/\">stratified sample</a></strong> or a &#8220;<a href=\"https://www.statisticshowto.com/what-is-cluster-sampling/\">cluster sample</a>.&#8221; </p>\n",
        "<ul>\n",
        "<li>If you have data about the individuals in the groups, that&#8217;s a stratified sample. In order to perform stratified sampling on this sample, you could perform random sampling of each strata independently. </li>\n",
        "<li>If you only have data about the groups themselves (you may only know the location of the individuals), then that&#8217;s a <strong>cluster sample</strong>.</li>\n",
        "</ul>\n",
        "<p><strong><span style=\"color: blue;\">Step 4:</span></strong> Find out if the sample was easy to get. <strong>Convenience samples</strong> are like convenience stores: why go out of your way to get samples, when you can nip out to the corner store? A classic example of convenience sampling is standing at a shopping mall, asking passers by for their opinion.</p>"
      ]
    },
    {
      "cell_type": "markdown",
      "metadata": {
        "id": "j24C176EJvhg"
      },
      "source": [
        "\n",
        "### What is Sampling Error?\n",
        "<p>Errors happen when you take a <a href=\"https://www.statisticshowto.com/sample/\">sample </a>from the <a href=\"https://www.statisticshowto.com/what-is-a-population/\">population </a>rather than using the <em>entire </em>population. In other words, it&#8217;s the difference between the <a href=\"https://www.statisticshowto.com/statistic/\">statistic </a>you measure and the <a href=\"https://www.statisticshowto.com/what-is-a-parameter-statisticshowto/\">parameter </a>you would find if you took a <a href=\"https://www.statisticshowto.com/what-is-a-census/\">census </a>of the entire population.</p>\n",
        "<p>If you were to survey the entire population (like the <a href=\"https://www.census.gov/\" target=\"_blank\" rel=\"noopener noreferrer\">US Census</a>), there would be no error. It&#8217;s nearly impossible to calculate the error margin. However, when you take samples at random, you estimate the error and call it the <a href=\"https://www.statisticshowto.com/probability-and-statistics/hypothesis-testing/margin-of-error/#WhatMofE\">margin of error</a>.\n",
        "\n",
        "\n",
        "\n",
        "A well planned survey can reduce error.</p></div>\n",
        "<p>For example, if you wanted to figure out how many people out of a thousand were under 18, and you came up with the figure 19.357%. If the actual percentage equals 19.300%, the difference (19.357 &#8211; 19.300) of 0.57 or 3% = the margin of error. If you continued to take samples of 1,000 people, you&#8217;d probably get slightly different statistics, 19.1%, 18.9%, 19.5% etc, but they would all be around the same figure. This is one of the reasons that you&#8217;ll often see sample sizes of 1,000 or 1,500 in surveys: they produce a very acceptable margin of error of about 3%.</p>\n",
        "<blockquote><p><strong>Formula:</strong> the formula for the margin of error is 1/√n, where n is the size of the sample. For example, a <a href=\"https://www.statisticshowto.com/probability-and-statistics/statistics-definitions/simple-random-sample/\">random sample</a> of 1,000 has about a 1/√n; = 3.2% error.</p></blockquote>\n",
        "<p>Sample error can only be reduced, this is because it is considered to be an acceptable tradeoff to avoid measuring the entire population. In general, the larger the sample, the smaller the margin of error. There is a notable exception: if you use <a href=\"https://www.statisticshowto.com/what-is-cluster-sampling/\">cluster sampling</a>, this may increase the error because of the similarities between cluster members. A carefully designed experiment or survey can also reduce error.</p>\n",
        "\n"
      ]
    },
    {
      "cell_type": "markdown",
      "metadata": {
        "id": "xpiNWVsoKVbr"
      },
      "source": [
        "### Another Type of Error\n",
        "\n",
        "<p>The <strong>non-sampling</strong> error could be one reason as to why there’s a difference between the sample and the population. This is due to poor <a href=\"https://www.statisticshowto.com/data-collection-methods/\">data collection methods</a> (like faulty instruments or inaccurate data recording), <a href=\"https://www.statisticshowto.com/what-is-bias/\">selection bias</a>, <a href=\"https://www.statisticshowto.com/non-response-bias/\">non response bias</a> (where individuals don&#8217;t want to or can&#8217;t respond to a survey), or other mistakes in collecting the data. Increasing the sample size will not reduce these errors. They key is to avoid making the errors in the first place with a well-planned design for the survey or experiment.</p>\n"
      ]
    },
    {
      "cell_type": "markdown",
      "metadata": {
        "id": "A4O1oF8BSGdn"
      },
      "source": [
        "# [**The 5 Sampling Algorithms every Data Scientist need to know**](https://towardsdatascience.com/the-5-sampling-algorithms-every-data-scientist-need-to-know-43c7bc11d17c)"
      ]
    },
    {
      "cell_type": "markdown",
      "metadata": {
        "id": "E_xKvQvdTgV3"
      },
      "source": [
        "## Simple Random Sampling\n",
        "Say you want to select a subset of a population in which each member of the subset has an equal probability of being chosen.\n",
        "Below we select 100 sample points from a dataset.\n",
        "\n",
        "\n",
        "\n",
        "```\n",
        "sample_df = df.sample(100)\n",
        "```\n",
        "\n"
      ]
    },
    {
      "cell_type": "markdown",
      "metadata": {
        "id": "QqPLexvKTvyQ"
      },
      "source": [
        "## Stratified Sampling\n",
        "\n",
        "Assume that we need to estimate the average number of votes for each candidate in an election. Assume that the country has 3 towns:\n",
        "\n",
        "\n",
        "*   Town A has 1 million factory workers,\n",
        "*   Town B has 2 million workers, and\n",
        "*   Town C has 3 million retirees.\n",
        "\n",
        "We can choose to get a random sample of size 60 over the entire population but there is some chance that the random sample turns out to be not well balanced across these towns and hence is biased causing a significant error in estimation.\n",
        "\n",
        "Instead, if we choose to take a random sample of 10, 20 and 30 from Town A, B and C respectively then we can produce a smaller error in estimation for the same total size of the sample.\n",
        "You can do something like this pretty easily with Python:\n",
        "\n",
        "\n",
        "\n",
        "```\n",
        "from sklearn.model_selection import train_test_split\n",
        "\n",
        "X_train, X_test, y_train, y_test = train_test_split(X, y,\n",
        "                                                    stratify=y, \n",
        "                                                    test_size=0.25)\n",
        "```\n",
        "\n"
      ]
    },
    {
      "cell_type": "markdown",
      "metadata": {
        "id": "ECRs-8C3UQzr"
      },
      "source": [
        "## Reservoir Sampling\n",
        "\n",
        "**Say you have a stream of items of large and unknown length that we can only iterate over once.**\n",
        "\n",
        "**Create an algorithm that randomly chooses an item from this stream such that each item is equally likely to be selected.**\n",
        "\n",
        "How can we do that?\n",
        "\n",
        "Let us assume we have to sample 5 objects out of an infinite stream such that each element has an equal probability of getting selected.\n",
        "\n",
        "\n",
        "\n",
        "```\n",
        "import random\n",
        "\n",
        "def generator(max):\n",
        "    number = 1\n",
        "    while number < max:\n",
        "        number += 1\n",
        "        yield number\n",
        "\n",
        "# Create as stream generator\n",
        "stream = generator(10000)\n",
        "\n",
        "# Doing Reservoir Sampling from the stream\n",
        "k=5\n",
        "reservoir = []\n",
        "for i, element in enumerate(stream):\n",
        "    if i+1<= k:\n",
        "        reservoir.append(element)\n",
        "    else:\n",
        "        probability = k/(i+1)\n",
        "        if random.random() < probability:\n",
        "            # Select item in stream and remove one of the k items already selected\n",
        "             reservoir[random.choice(range(0,k))] = element\n",
        "\n",
        "\n",
        "print(reservoir)\n",
        "------------------------------------\n",
        "[1369, 4108, 9986, 828, 5589]\n",
        "```\n",
        "\n",
        "It can be mathematically proved that in the sample each element has the same probability of getting selected from the stream.\n",
        "\n",
        "How?\n",
        "\n",
        "It always helps to think of a smaller problem when it comes to mathematics.\n",
        "\n",
        "So, let us think of a stream of only 3 items and we have to keep 2 of them.\n",
        "\n",
        "We see the first item, we hold it in the list as our reservoir has space. We see the second item, we hold it in the list as our reservoir has space.\n",
        "\n",
        "We see the third item. Here is where things get interesting. We choose the third item to be in the list with probability 2/3.\n",
        "\n",
        "Let us now see the probability of first item getting selected:\n",
        "\n",
        "The probability of removing the first item is the probability of element 3 getting selected multiplied by the probability of Element 1 getting randomly chosen as the replacement candidate from the 2 elements in the reservoir. That probability is:\n",
        "\n",
        "`2/3*1/2 = 1/3`\n",
        "\n",
        "Thus the probability of 1 getting selected is:\n",
        "\n",
        "`1–1/3 = 2/3`\n",
        "\n",
        "We can have the exact same argument for the Second Element and we can extend it for many elements.\n",
        "\n",
        "Thus each item has the same probability of getting selected: `2/3` or in general `k/n`\n"
      ]
    },
    {
      "cell_type": "markdown",
      "metadata": {
        "id": "EZ3Nje1IVp1L"
      },
      "source": [
        "## Random Undersampling and Oversampling"
      ]
    },
    {
      "cell_type": "markdown",
      "metadata": {
        "id": "KfI_kZxfVuho"
      },
      "source": [
        "![Undersampling and Oversampling](https://miro.medium.com/max/1400/0*u6pKLqdCDsG_5kXa.png)\n",
        "\n",
        "It is too often that we encounter an imbalanced dataset.\n",
        "\n",
        "A widely adopted technique for dealing with highly imbalanced datasets is called resampling. It consists of removing samples from the majority class (under-sampling) and/or adding more examples from the minority class (over-sampling).\n",
        "\n",
        "Let us first create some example imbalanced data.\n",
        "\n",
        "```\n",
        "from sklearn.datasets import make_classification\n",
        "\n",
        "X, y = make_classification(\n",
        "    n_classes=2, class_sep=1.5, weights=[0.9, 0.1],\n",
        "    n_informative=3, n_redundant=1, flip_y=0,\n",
        "    n_features=20, n_clusters_per_class=1,\n",
        "    n_samples=100, random_state=10\n",
        ")\n",
        "X = pd.DataFrame(X)\n",
        "X['target'] = y\n",
        "```\n",
        "We can now do random oversampling and undersampling using:\n",
        "\n",
        "\n",
        "\n",
        "```\n",
        "num_0 = len(X[X['target']==0])\n",
        "num_1 = len(X[X['target']==1])\n",
        "print(num_0,num_1)\n",
        "\n",
        "# random undersample\n",
        "undersampled_data = pd.concat([ X[X['target']==0].sample(num_1) , X[X['target']==1] ])\n",
        "print(len(undersampled_data))\n",
        "\n",
        "# random oversample\n",
        "oversampled_data = pd.concat([ X[X['target']==0] , X[X['target']==1].sample(num_0, replace=True) ])\n",
        "\n",
        "print(len(oversampled_data))\n",
        "\n",
        "------------------------------------------------------------\n",
        "OUTPUT:\n",
        "90 10\n",
        "20\n",
        "180\n",
        "```\n",
        "\n",
        "\n",
        "\n"
      ]
    },
    {
      "cell_type": "markdown",
      "metadata": {
        "id": "zDMkU---Wavp"
      },
      "source": [
        "## Undersampling and Oversampling using imbalanced-learn"
      ]
    },
    {
      "cell_type": "markdown",
      "metadata": {
        "id": "u3-l7X-zWdFc"
      },
      "source": [
        "imbalanced-learn(imblearn) is a Python Package to tackle the curse of imbalanced datasets.\n",
        "\n",
        "It provides a variety of methods to undersample and oversample.\n",
        "\n",
        "\n",
        "**a. Undersampling using Tomek Links:**\n",
        "\n",
        "One of such methods it provides is called Tomek Links. Tomek links are pairs of examples of opposite classes in close vicinity.\n",
        "\n",
        "In this algorithm, we end up removing the majority element from the Tomek link which provides a better decision boundary for a classifier.\n",
        "\n",
        "![Tomek Links](https://miro.medium.com/max/700/0*huy_9J15wzYJ2o5S)\n",
        "\n",
        "```\n",
        "from imblearn.under_sampling import TomekLinks\n",
        "\n",
        "tl = TomekLinks(return_indices=True, ratio='majority')\n",
        "X_tl, y_tl, id_tl = tl.fit_sample(X, y)\n",
        "```\n",
        "\n",
        "**b. Oversampling using SMOTE:**\n",
        "\n",
        "In SMOTE (Synthetic Minority Oversampling Technique) we synthesize elements for the minority class, in the vicinity of already existing elements.\n",
        "\n",
        "![SMOTE](https://miro.medium.com/max/700/0*UrGYcz_Ab-HTo4-B.png)\n",
        "\n",
        "```\n",
        "from imblearn.over_sampling import SMOTE\n",
        "\n",
        "smote = SMOTE(ratio='minority')\n",
        "X_sm, y_sm = smote.fit_sample(X, y)\n",
        "```\n",
        "There are a variety of other methods in the imblearn package for both undersampling (Cluster Centroids, NearMiss, etc.) and oversampling(ADASYN and bSMOTE) that you can check out."
      ]
    },
    {
      "cell_type": "markdown",
      "metadata": {
        "id": "XJs9QrTzZa1D"
      },
      "source": [
        "# [**Sampling methods review**](https://www.khanacademy.org/math/statistics-probability/designing-studies/sampling-methods-stats/a/sampling-methods-review)\n"
      ]
    },
    {
      "cell_type": "markdown",
      "metadata": {
        "id": "C-ME9jcGbDpd"
      },
      "source": [
        "## What are sampling methods?\n",
        "In a statistical study, sampling methods refer to how we select members from the population to be in the study.\n",
        "\n",
        "If a sample isn't randomly selected, it will probably be biased in some way and the data may not be representative of the population.\n",
        "\n",
        "There are many ways to select a sample—some good and some bad."
      ]
    },
    {
      "cell_type": "markdown",
      "metadata": {
        "id": "KT63_wmFbNT7"
      },
      "source": [
        "### Bad ways to sample\n",
        "**Convenience sample**: The researcher chooses a sample that is readily available in some non-random way.\n",
        "\n",
        "Example—A researcher polls people as they walk by on the street.\n",
        "\n",
        "Why it's probably biased: The location and time of day and other factors may produce a biased sample of people.\n",
        "\n",
        "**Voluntary response sample:** The researcher puts out a request for members of a population to join the sample, and people decide whether or not to be in the sample.\n",
        "\n",
        "Example—A TV show host asks his viewers to visit his website and respond to an online poll.\n",
        "\n",
        "Why it's probably biased: People who take the time to respond tend to have similarly strong opinions compared to the rest of the population."
      ]
    },
    {
      "cell_type": "markdown",
      "metadata": {
        "id": "KwuuaUYla3mV"
      },
      "source": [
        "### Good ways to sample\n",
        "\n",
        "**Simple random sample:** Every member and set of members has an equal chance of being included in the sample. Technology, random number generators, or some other sort of chance process is needed to get a simple random sample.\n",
        "\n",
        "Example—A teachers puts students' names in a hat and chooses without looking to get a sample of students.\n",
        "\n",
        "Why it's good: Random samples are usually fairly representative since they don't favor certain members.\n",
        "\n",
        "**Stratified random sample:** The population is first split into groups. The overall sample consists of some members from every group. The members from each group are chosen randomly.\n",
        "\n",
        "Example—A student council surveys $100$ students by getting random samples of $25$ freshmen, $25$ sophomores, $25$ juniors, and $25$ seniors.\n",
        "\n",
        "Why it's good: A stratified sample guarantees that members from each group will be represented in the sample, so this sampling method is good when we want some members from every group.\n",
        "\n",
        "**Cluster random sample:** The population is first split into groups. The overall sample consists of every member from some of the groups. The groups are selected at random.\n",
        "\n",
        "Example—An airline company wants to survey its customers one day, so they randomly select $5$ flights that day and survey every passenger on those flights.\n",
        "\n",
        "Why it's good: A cluster sample gets every member from some of the groups, so it's good when each group reflects the population as a whole.\n",
        "\n",
        "**Systematic random sample:** Members of the population are put in some order. A starting point is selected at random, and every $n^{th}$ member is selected to be in the sample.\n",
        "\n",
        "Example—A principal takes an alphabetized list of student names and picks a random starting point. Every $20^{th}$ student is selected to take a survey."
      ]
    },
    {
      "cell_type": "markdown",
      "metadata": {
        "id": "PNm9COkhW3A0"
      },
      "source": [
        "# Study design "
      ]
    },
    {
      "cell_type": "markdown",
      "metadata": {
        "id": "nkQeYISlXAwg"
      },
      "source": [
        "## Types of studies (experimental vs. observational)"
      ]
    },
    {
      "cell_type": "markdown",
      "metadata": {
        "id": "NPSbF4KoXCx3"
      },
      "source": [
        "### Sample Study\n",
        "\n",
        "Para estimar el valor de un parámetro de la población\n",
        "\n",
        "ej: tiempo medio usando el ordenador"
      ]
    },
    {
      "cell_type": "markdown",
      "metadata": {
        "id": "3LTi5dgHX4YI"
      },
      "source": [
        "### Observational study\n",
        "\n",
        "Para ver como dos parámetros se mueven juntos. \n",
        "\n",
        "ej: computer time vs blood presure. ver su tipo de correlación.\n",
        "La correlación no implica causalidad porque puede existir un confoundig factor, por ejemplo \"grado de inactividad física"
      ]
    },
    {
      "cell_type": "markdown",
      "metadata": {
        "id": "ueydl3DiX4bQ"
      },
      "source": [
        "### Experiment\n",
        "\n",
        "haces dos grupos elegidos al azar para asegurar que tienen el mismo grad de inactividad. y a uno le asignas 30 minutos de ordenador y al otro 4 horas. y mides las presiones sanguineas. "
      ]
    }
  ]
}